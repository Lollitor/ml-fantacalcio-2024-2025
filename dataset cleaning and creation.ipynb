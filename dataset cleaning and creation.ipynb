{
 "cells": [
  {
   "cell_type": "code",
   "execution_count": 2,
   "id": "2283cb63-6ff1-4d0d-8e25-c247f6600c07",
   "metadata": {},
   "outputs": [
    {
     "name": "stdout",
     "output_type": "stream",
     "text": [
      "0     Season Age    Squad Country                 Comp LgRank  MP Starts  \\\n",
      "1  2015-2016  19  Aalborg  dk DEN  1. Danish Superliga    5th  14      7   \n",
      "2  2016-2017  20  Aalborg  dk DEN  1. Danish Superliga   10th  11      4   \n",
      "3  2017-2018  21  Aalborg  dk DEN  1. Danish Superliga    5th  17      9   \n",
      "4  2018-2019  22  Aalborg  dk DEN  1. Danish Superliga    9th  25     24   \n",
      "5  2019-2020  23  Aalborg  dk DEN  1. Danish Superliga    5th  11      2   \n",
      "\n",
      "0   Min   90s  ...  G-PK G+A-PK   xG  xAG xG+xAG npxG npxG+xAG  Matches  \\\n",
      "1   594   6.6  ...  0.15   0.15  NaN  NaN    NaN  NaN      NaN  Matches   \n",
      "2   451   5.0  ...  0.00   0.00  NaN  NaN    NaN  NaN      NaN  Matches   \n",
      "3   828   9.2  ...  0.00   0.11  NaN  NaN    NaN  NaN      NaN  Matches   \n",
      "4  2136  23.7  ...  0.04   0.08  NaN  NaN    NaN  NaN      NaN  Matches   \n",
      "5   370   4.1  ...  0.24   0.24  NaN  NaN    NaN  NaN      NaN  Matches   \n",
      "\n",
      "0                NaN   MP  \n",
      "1  Oliver Abildgaard  NaN  \n",
      "2  Oliver Abildgaard  NaN  \n",
      "3  Oliver Abildgaard  NaN  \n",
      "4  Oliver Abildgaard  NaN  \n",
      "5  Oliver Abildgaard  NaN  \n",
      "\n",
      "[5 rows x 38 columns]\n"
     ]
    }
   ],
   "source": [
    "import pandas as pd\n",
    "import re\n",
    "\n",
    "# Load the dataset\n",
    "file_path = 'all_player_performance_data.csv'  # Adjust the file path accordingly\n",
    "df = pd.read_csv(file_path)\n",
    "\n",
    "# Name the columns based on the first row and drop that row\n",
    "df.columns = df.iloc[0]\n",
    "df = df[1:]\n",
    "\n",
    "# Define a function to check valid \"season\" format (YYYY-YYYY)\n",
    "def is_valid_season(season):\n",
    "    if isinstance(season, str) and re.match(r\"^\\d{4}-\\d{4}$\", season):\n",
    "        return True\n",
    "    return False\n",
    "\n",
    "# Filter the dataframe to keep rows where the \"Season\" column has a valid format\n",
    "df_filtered = df[df['Season'].apply(is_valid_season)]\n",
    "\n",
    "# Save the cleaned dataframe to a new CSV file\n",
    "df_filtered.to_csv('filtered_player_performance_data.csv', index=False)\n",
    "\n",
    "# Output the first few rows to confirm the changes\n",
    "print(df_filtered.head())\n"
   ]
  },
  {
   "cell_type": "code",
   "execution_count": 9,
   "id": "a527d54b-28fe-417e-88da-c3adc7159731",
   "metadata": {},
   "outputs": [
    {
     "name": "stderr",
     "output_type": "stream",
     "text": [
      "C:\\Users\\lolli\\AppData\\Local\\Temp\\ipykernel_35860\\3427257228.py:21: FutureWarning: A value is trying to be set on a copy of a DataFrame or Series through chained assignment using an inplace method.\n",
      "The behavior will change in pandas 3.0. This inplace method will never work because the intermediate object on which we are setting values always behaves as a copy.\n",
      "\n",
      "For example, when doing 'df[col].method(value, inplace=True)', try using 'df.method({col: value}, inplace=True)' or df[col] = df[col].method(value) instead, to perform the operation inplace on the original object.\n",
      "\n",
      "\n",
      "  group[col].fillna(group[col].mean(), inplace=True)\n"
     ]
    },
    {
     "name": "stdout",
     "output_type": "stream",
     "text": [
      "      Season  Age     Squad Country        Comp LgRank    MP  Starts     Min  \\\n",
      "0  2022-2023   17    Torino  it ITA  1. Serie A   10th   0.0     0.0     1.0   \n",
      "1  2023-2024   18    Torino  it ITA  1. Serie A    9th   0.0     0.0     1.0   \n",
      "2  2024-2025   19    Torino  it ITA  1. Serie A    3rd   1.0     0.0     1.0   \n",
      "3  2016-2017   19  Espanyol  es ESP  1. La Liga    8th  30.0    28.0  2587.0   \n",
      "4  2017-2018   20  Espanyol  es ESP  1. La Liga   11th  32.0    31.0  2815.0   \n",
      "\n",
      "    90s  ...  Ast.1  G+A.1  G-PK.1  G+A-PK      xG.1     xAG.1    xG+xAG  \\\n",
      "0   0.0  ...    0.0    0.0     0.0     0.0  0.000000  0.000000  0.000000   \n",
      "1   0.0  ...    0.0    0.0     0.0     0.0  0.000000  0.000000  0.000000   \n",
      "2   0.0  ...    0.0    0.0     0.0     0.0  0.000000  0.000000  0.000000   \n",
      "3  28.7  ...    0.0    0.0     0.0     0.0  0.025556  0.113333  0.136667   \n",
      "4  31.3  ...    0.0    0.0     0.0     0.0  0.000000  0.090000  0.090000   \n",
      "\n",
      "     npxG.1  npxG+xAG.1                 Player  \n",
      "0  0.000000    0.000000  Aaron Ciammaglichella  \n",
      "1  0.000000    0.000000  Aaron Ciammaglichella  \n",
      "2  0.000000    0.000000  Aaron Ciammaglichella  \n",
      "3  0.021111    0.132222           Aarón Martín  \n",
      "4  0.000000    0.090000           Aarón Martín  \n",
      "\n",
      "[5 rows x 36 columns]\n"
     ]
    },
    {
     "name": "stderr",
     "output_type": "stream",
     "text": [
      "C:\\Users\\lolli\\AppData\\Local\\Temp\\ipykernel_35860\\3427257228.py:24: DeprecationWarning: DataFrameGroupBy.apply operated on the grouping columns. This behavior is deprecated, and in a future version of pandas the grouping columns will be excluded from the operation. Either pass `include_groups=False` to exclude the groupings or explicitly select the grouping columns after groupby to silence this warning.\n",
      "  df_filled = df_filtered.groupby('Player').apply(fill_missing_with_mean).reset_index(drop=True)\n"
     ]
    }
   ],
   "source": [
    "import pandas as pd\n",
    "\n",
    "# Load the filtered dataset\n",
    "file_path = 'filtered_player_performance_data.csv'  # Adjust the file path accordingly\n",
    "df_filtered = pd.read_csv(file_path)\n",
    "\n",
    "# Rename the \"Player\" column (based on the previous inspection, it was unnamed)\n",
    "df_filtered.rename(columns={df_filtered.columns[-2]: 'Player'}, inplace=True)\n",
    "\n",
    "# Drop the last column (which is the second \"MP\") and the \"Matches\" column\n",
    "df_filtered = df_filtered.iloc[:, :-1]  # Drop the last column (second \"MP\")\n",
    "df_filtered = df_filtered.drop(columns=['Matches'], errors='ignore')\n",
    "\n",
    "# Only fill missing values for numeric columns\n",
    "numeric_cols = df_filtered.select_dtypes(include='number').columns\n",
    "\n",
    "# Group by 'Player' and only fill missing values with the mean for that player\n",
    "def fill_missing_with_mean(group):\n",
    "    for col in numeric_cols:\n",
    "        # Fill missing values in each numeric column with the player's average\n",
    "        group[col].fillna(group[col].mean(), inplace=True)\n",
    "    return group\n",
    "\n",
    "df_filled = df_filtered.groupby('Player').apply(fill_missing_with_mean).reset_index(drop=True)\n",
    "\n",
    "# Save the resulting dataframe to a new CSV file\n",
    "df_filled.to_csv('filled_player_performance_data.csv', index=False)\n",
    "\n",
    "# Output the first few rows to confirm the changes\n",
    "print(df_filled.head())\n"
   ]
  },
  {
   "cell_type": "code",
   "execution_count": 16,
   "id": "ec885681-2ffd-455c-b10f-f4072ac84db3",
   "metadata": {},
   "outputs": [
    {
     "name": "stderr",
     "output_type": "stream",
     "text": [
      "C:\\Users\\lolli\\AppData\\Local\\Temp\\ipykernel_35860\\2137074601.py:27: FutureWarning: A value is trying to be set on a copy of a DataFrame or Series through chained assignment using an inplace method.\n",
      "The behavior will change in pandas 3.0. This inplace method will never work because the intermediate object on which we are setting values always behaves as a copy.\n",
      "\n",
      "For example, when doing 'df[col].method(value, inplace=True)', try using 'df.method({col: value}, inplace=True)' or df[col] = df[col].method(value) instead, to perform the operation inplace on the original object.\n",
      "\n",
      "\n",
      "  group[col].fillna(group[col].mean(), inplace=True)\n"
     ]
    },
    {
     "name": "stdout",
     "output_type": "stream",
     "text": [
      "      Season  Age     Squad Country        Comp LgRank    MP  Starts     Min  \\\n",
      "0  2022-2023   17    Torino  it ITA  1. Serie A   10th   0.0     0.0     1.0   \n",
      "1  2023-2024   18    Torino  it ITA  1. Serie A    9th   0.0     0.0     1.0   \n",
      "2  2024-2025   19    Torino  it ITA  1. Serie A    3rd   1.0     0.0     1.0   \n",
      "3  2016-2017   19  Espanyol  es ESP  1. La Liga    8th  30.0    28.0  2587.0   \n",
      "4  2017-2018   20  Espanyol  es ESP  1. La Liga   11th  32.0    31.0  2815.0   \n",
      "\n",
      "    90s  ...  Ast.1  G+A.1  G-PK.1  G+A-PK      xG.1     xAG.1    xG+xAG  \\\n",
      "0   0.0  ...    0.0    0.0     0.0     0.0  0.000000  0.000000  0.000000   \n",
      "1   0.0  ...    0.0    0.0     0.0     0.0  0.000000  0.000000  0.000000   \n",
      "2   0.0  ...    0.0    0.0     0.0     0.0  0.000000  0.000000  0.000000   \n",
      "3  28.7  ...    0.0    0.0     0.0     0.0  0.025556  0.113333  0.136667   \n",
      "4  31.3  ...    0.0    0.0     0.0     0.0  0.000000  0.090000  0.090000   \n",
      "\n",
      "     npxG.1  npxG+xAG.1                 Player  \n",
      "0  0.000000    0.000000  Aaron Ciammaglichella  \n",
      "1  0.000000    0.000000  Aaron Ciammaglichella  \n",
      "2  0.000000    0.000000  Aaron Ciammaglichella  \n",
      "3  0.021111    0.132222           Aarón Martín  \n",
      "4  0.000000    0.090000           Aarón Martín  \n",
      "\n",
      "[5 rows x 36 columns]\n"
     ]
    },
    {
     "name": "stderr",
     "output_type": "stream",
     "text": [
      "C:\\Users\\lolli\\AppData\\Local\\Temp\\ipykernel_35860\\2137074601.py:30: DeprecationWarning: DataFrameGroupBy.apply operated on the grouping columns. This behavior is deprecated, and in a future version of pandas the grouping columns will be excluded from the operation. Either pass `include_groups=False` to exclude the groupings or explicitly select the grouping columns after groupby to silence this warning.\n",
      "  df_filled = df_filtered.groupby('Player').apply(fill_missing_with_mean).reset_index(drop=True)\n"
     ]
    }
   ],
   "source": [
    "import pandas as pd\n",
    "\n",
    "# Load the filtered dataset\n",
    "file_path = 'filtered_player_performance_data.csv'  # Adjust the file path accordingly\n",
    "df_filtered = pd.read_csv(file_path)\n",
    "\n",
    "# Rename the \"Player\" column (based on the previous inspection, it was unnamed)\n",
    "df_filtered.rename(columns={df_filtered.columns[-2]: 'Player'}, inplace=True)\n",
    "\n",
    "# Merge the two \"MP\" columns instead of dropping the second one\n",
    "# Assuming the two columns are named \"MP\" and \"MP.1\" (you can adjust this to the actual column names)\n",
    "df_filtered['MP'] = df_filtered['MP'].combine_first(df_filtered['MP.1'])\n",
    "\n",
    "# Drop the redundant \"MP.1\" column (the second \"MP\")\n",
    "df_filtered = df_filtered.drop(columns=['MP.1'], errors='ignore')\n",
    "\n",
    "# Drop the \"Matches\" column if it exists\n",
    "df_filtered = df_filtered.drop(columns=['Matches'], errors='ignore')\n",
    "\n",
    "# Only fill missing values for numeric columns\n",
    "numeric_cols = df_filtered.select_dtypes(include='number').columns\n",
    "\n",
    "# Group by 'Player' and only fill missing values with the mean for that player\n",
    "def fill_missing_with_mean(group):\n",
    "    for col in numeric_cols:\n",
    "        # Fill missing values in each numeric column with the player's average\n",
    "        group[col].fillna(group[col].mean(), inplace=True)\n",
    "    return group\n",
    "\n",
    "df_filled = df_filtered.groupby('Player').apply(fill_missing_with_mean).reset_index(drop=True)\n",
    "\n",
    "# Save the resulting dataframe to a new CSV file\n",
    "df_filled.to_csv('filled_player_performance_data.csv', index=False)\n",
    "\n",
    "# Output the first few rows to confirm the changes\n",
    "print(df_filled.head())\n"
   ]
  },
  {
   "cell_type": "code",
   "execution_count": 17,
   "id": "3ff87ff8-12be-4fa1-aaa6-d21a8b35d2d7",
   "metadata": {},
   "outputs": [
    {
     "name": "stderr",
     "output_type": "stream",
     "text": [
      "C:\\Users\\lolli\\AppData\\Local\\Temp\\ipykernel_35860\\279975371.py:37: DeprecationWarning: DataFrameGroupBy.apply operated on the grouping columns. This behavior is deprecated, and in a future version of pandas the grouping columns will be excluded from the operation. Either pass `include_groups=False` to exclude the groupings or explicitly select the grouping columns after groupby to silence this warning.\n",
      "  training_data_gls = df_filtered.groupby('Player').apply(lambda x: create_training_data(x, 'Gls')).reset_index(drop=True)\n",
      "C:\\Users\\lolli\\AppData\\Local\\Temp\\ipykernel_35860\\279975371.py:40: DeprecationWarning: DataFrameGroupBy.apply operated on the grouping columns. This behavior is deprecated, and in a future version of pandas the grouping columns will be excluded from the operation. Either pass `include_groups=False` to exclude the groupings or explicitly select the grouping columns after groupby to silence this warning.\n",
      "  training_data_ast = df_filtered.groupby('Player').apply(lambda x: create_training_data(x, 'Ast')).reset_index(drop=True)\n"
     ]
    }
   ],
   "source": [
    "import pandas as pd\n",
    "\n",
    "# Load the dataset\n",
    "file_path = 'filled_player_performance_data.csv'  # Replace with your file path\n",
    "df = pd.read_csv(file_path)\n",
    "\n",
    "# Step 1: Filter out the 2024-2025 season\n",
    "df_filtered = df[df['Season'] != '2024-2025']\n",
    "\n",
    "# Step 2: Identify the numerical columns (dropping categorical columns like 'Season', 'Squad', 'Comp', 'LgRank', 'Player')\n",
    "numerical_columns = df_filtered.select_dtypes(include=['float64', 'int64']).columns\n",
    "\n",
    "# Step 3: Define a function to compute averages for past seasons and set the 'target' for the next season\n",
    "def create_training_data(player_df, target_column):\n",
    "    rows = []\n",
    "    for i in range(1, len(player_df)):\n",
    "        # Get the data for all previous seasons\n",
    "        previous_data = player_df.iloc[:i]\n",
    "        \n",
    "        # Average numerical columns\n",
    "        avg_data = previous_data[numerical_columns].mean().to_dict()\n",
    "        \n",
    "        # Get current season's Squad and Comp, and set the target for prediction\n",
    "        current_row = player_df.iloc[i]\n",
    "        avg_data['Player'] = current_row['Player']  # Include the player's name\n",
    "        avg_data['Squad'] = current_row['Squad']\n",
    "        avg_data['Comp'] = current_row['Comp']\n",
    "        \n",
    "        # Set the target as the value from the target_column (e.g., Gls or Ast) in the current season\n",
    "        avg_data['target'] = current_row[target_column]\n",
    "        \n",
    "        rows.append(avg_data)\n",
    "    \n",
    "    return pd.DataFrame(rows)\n",
    "\n",
    "# Step 4: Generate training data for Goals (Gls) prediction\n",
    "training_data_gls = df_filtered.groupby('Player').apply(lambda x: create_training_data(x, 'Gls')).reset_index(drop=True)\n",
    "\n",
    "# Step 5: Generate training data for Assists (Ast) prediction\n",
    "training_data_ast = df_filtered.groupby('Player').apply(lambda x: create_training_data(x, 'Ast')).reset_index(drop=True)\n",
    "\n",
    "# Optional: Save both datasets to CSV files\n",
    "training_data_gls.to_csv('training_data_with_goals_target.csv', index=False)\n",
    "training_data_ast.to_csv('training_data_with_assists_target.csv', index=False)\n",
    "\n",
    "# You can now use 'training_data_with_goals_target.csv' and 'training_data_with_assists_target.csv' as your training datasets\n"
   ]
  },
  {
   "cell_type": "code",
   "execution_count": 19,
   "id": "5b0f8832-a480-42a6-98e5-d23c05b8757c",
   "metadata": {},
   "outputs": [
    {
     "name": "stderr",
     "output_type": "stream",
     "text": [
      "C:\\Users\\lolli\\AppData\\Local\\Temp\\ipykernel_35860\\3209476705.py:30: DeprecationWarning: DataFrameGroupBy.apply operated on the grouping columns. This behavior is deprecated, and in a future version of pandas the grouping columns will be excluded from the operation. Either pass `include_groups=False` to exclude the groupings or explicitly select the grouping columns after groupby to silence this warning.\n",
      "  prediction_data = df.groupby('Player').apply(create_prediction_data).reset_index(drop=True)\n"
     ]
    }
   ],
   "source": [
    "import pandas as pd\n",
    "\n",
    "# Load the dataset\n",
    "file_path = 'filled_player_performance_data.csv'  # Replace with your file path\n",
    "df = pd.read_csv(file_path)\n",
    "\n",
    "# Step 1: Filter out rows from seasons other than 2024-2025\n",
    "df_2024 = df[df['Season'] == '2024-2025']\n",
    "\n",
    "# Step 2: Identify the numerical columns (dropping categorical columns like 'Season', 'Squad', 'Comp', 'LgRank', 'Player')\n",
    "numerical_columns = df.select_dtypes(include=['float64', 'int64']).columns\n",
    "\n",
    "# Step 3: Define a function to compute averages for all past seasons for each player and set the target for prediction\n",
    "def create_prediction_data(player_df):\n",
    "    # Get the data for all previous seasons (excluding the current season)\n",
    "    previous_data = player_df[player_df['Season'] != '2024-2025']\n",
    "    \n",
    "    # Average numerical columns\n",
    "    avg_data = previous_data[numerical_columns].mean().to_dict()\n",
    "    \n",
    "    # Get current season's Squad, Comp, and Player details (2024-2025)\n",
    "    current_row = player_df[player_df['Season'] == '2024-2025'].iloc[0]\n",
    "    avg_data['Player'] = current_row['Player']  # Include the player's name\n",
    "    avg_data['Squad'] = current_row['Squad']\n",
    "    avg_data['Comp'] = current_row['Comp']\n",
    "    \n",
    "    return pd.Series(avg_data)\n",
    "\n",
    "# Step 4: Apply this function to generate prediction data for the current 2024-2025 season\n",
    "prediction_data = df.groupby('Player').apply(create_prediction_data).reset_index(drop=True)\n",
    "\n",
    "# Optional: Save the prediction dataset to a CSV file\n",
    "prediction_data.to_csv('prediction_data_2024_2025.csv', index=False)\n",
    "\n",
    "# You can now use 'prediction_data_2024_2025.csv' as your prediction dataset\n"
   ]
  },
  {
   "cell_type": "code",
   "execution_count": null,
   "id": "ff6d02f4-eaeb-49bd-8cf4-420d989640a9",
   "metadata": {},
   "outputs": [],
   "source": []
  }
 ],
 "metadata": {
  "kernelspec": {
   "display_name": "Python 3 (ipykernel)",
   "language": "python",
   "name": "python3"
  },
  "language_info": {
   "codemirror_mode": {
    "name": "ipython",
    "version": 3
   },
   "file_extension": ".py",
   "mimetype": "text/x-python",
   "name": "python",
   "nbconvert_exporter": "python",
   "pygments_lexer": "ipython3",
   "version": "3.11.4"
  }
 },
 "nbformat": 4,
 "nbformat_minor": 5
}
