{
 "cells": [
  {
   "cell_type": "code",
   "execution_count": 3,
   "id": "0bc35d65-70b8-44c1-a70a-3bfaaf9f17bc",
   "metadata": {},
   "outputs": [
    {
     "name": "stdout",
     "output_type": "stream",
     "text": [
      "                 Player     Squad        Comp  predicted Goals  \\\n",
      "0      Lautaro Martínez     Inter  1. Serie A             19.0   \n",
      "1          Mehdi Taremi     Inter  1. Serie A             15.0   \n",
      "2         Romelu Lukaku    Napoli  1. Serie A             14.0   \n",
      "3          Paulo Dybala      Roma  1. Serie A             11.0   \n",
      "4     Gianluca Lapadula  Cagliari  1. Serie A             11.0   \n",
      "..                  ...       ...         ...              ...   \n",
      "389         Yann Sommer     Inter  1. Serie A             -1.0   \n",
      "390       Botond Balogh     Parma  1. Serie A             -1.0   \n",
      "381       Ivan Provedel     Lazio  1. Serie A             -1.0   \n",
      "392     Niccolò Pisilli      Roma  1. Serie A             -1.0   \n",
      "382  Federico Accornero     Genoa  1. Serie A             -1.0   \n",
      "\n",
      "     predicted Assists  Score  \n",
      "0                  2.0   59.0  \n",
      "1                  3.0   48.0  \n",
      "2                  3.0   45.0  \n",
      "3                  4.0   37.0  \n",
      "4                  2.0   35.0  \n",
      "..                 ...    ...  \n",
      "389                0.0   -3.0  \n",
      "390                0.0   -3.0  \n",
      "381                0.0   -3.0  \n",
      "392                0.0   -3.0  \n",
      "382                0.0   -3.0  \n",
      "\n",
      "[394 rows x 6 columns]\n"
     ]
    }
   ],
   "source": [
    "import pandas as pd\n",
    "\n",
    "# Load the datasets\n",
    "goals_df = pd.read_csv('predictions.csv')  # Replace with the actual path to your file\n",
    "assists_df = pd.read_csv('predictions_assists.csv')  # Replace with the actual path to your file\n",
    "\n",
    "# Convert 'Player' columns to strings to avoid datatype mismatch\n",
    "goals_df['Player'] = goals_df['Player'].astype(str)\n",
    "assists_df['Player'] = assists_df['Player'].astype(str)\n",
    "\n",
    "# Merge the two datasets on the 'Player' column\n",
    "merged_df = pd.merge(goals_df, assists_df, on='Player', how='inner')\n",
    "\n",
    "# Drop duplicate columns (e.g., 'Squad' and 'Comp' from the second dataset)\n",
    "merged_df = merged_df.drop(columns=['Squad_y', 'Comp_y'])\n",
    "\n",
    "# Rename remaining columns for clarity, if necessary\n",
    "merged_df.rename(columns={'Squad_x': 'Squad', 'Comp_x': 'Comp'}, inplace=True)\n",
    "\n",
    "# Create a new column 'Score' which is 3 * predicted Goals + predicted Assists\n",
    "merged_df['Score'] = 3 * merged_df['predicted Goals'] + merged_df['predicted Assists']\n",
    "\n",
    "# Sort the DataFrame by the 'Score' in descending order\n",
    "sorted_df = merged_df.sort_values(by='Score', ascending=False)\n",
    "\n",
    "# Display or save the resulting DataFrame\n",
    "print(sorted_df)\n",
    "\n",
    "# Optionally, save the sorted dataframe to a new CSV file\n",
    "sorted_df.to_csv('sorted_player_scores.csv', index=False)\n"
   ]
  },
  {
   "cell_type": "code",
   "execution_count": 4,
   "id": "b04cb61b-19d6-4b27-a1a6-d9f51d607191",
   "metadata": {},
   "outputs": [
    {
     "name": "stdout",
     "output_type": "stream",
     "text": [
      "              Player  Score       Cost\n",
      "0   Lautaro Martínez   59.0  79.985423\n",
      "1       Mehdi Taremi   48.0  65.072886\n",
      "2      Romelu Lukaku   45.0  61.005831\n",
      "3       Paulo Dybala   37.0  50.160350\n",
      "4  Gianluca Lapadula   35.0  47.448980\n"
     ]
    }
   ],
   "source": [
    "import pandas as pd\n",
    "\n",
    "# Load the datasets\n",
    "goals_df = pd.read_csv('predictions.csv')  # Replace with the actual path to your file\n",
    "assists_df = pd.read_csv('predictions_assists.csv')  # Replace with the actual path to your file\n",
    "\n",
    "# Convert 'Player' columns to strings to avoid datatype mismatch\n",
    "goals_df['Player'] = goals_df['Player'].astype(str)\n",
    "assists_df['Player'] = assists_df['Player'].astype(str)\n",
    "\n",
    "# Merge the two datasets on the 'Player' column\n",
    "merged_df = pd.merge(goals_df, assists_df, on='Player', how='inner')\n",
    "\n",
    "# Drop duplicate columns (e.g., 'Squad' and 'Comp' from the second dataset)\n",
    "merged_df = merged_df.drop(columns=['Squad_y', 'Comp_y'])\n",
    "\n",
    "# Rename remaining columns for clarity\n",
    "merged_df.rename(columns={'Squad_x': 'Squad', 'Comp_x': 'Comp'}, inplace=True)\n",
    "\n",
    "# Create a new column 'Score' which is 3 * predicted Goals + predicted Assists\n",
    "merged_df['Score'] = 3 * merged_df['predicted Goals'] + merged_df['predicted Assists']\n",
    "\n",
    "# Sort the DataFrame by the 'Score' in descending order\n",
    "sorted_df = merged_df.sort_values(by='Score', ascending=False)\n",
    "\n",
    "# Calculate the sum of the scores for the first 184 players\n",
    "top_184_df = sorted_df.head(184)\n",
    "sum_scores_top_184 = top_184_df['Score'].sum()\n",
    "\n",
    "# Calculate the cost of one point of score\n",
    "cost_per_point = 3720 / sum_scores_top_184\n",
    "\n",
    "# Calculate the cost for each player based on their score\n",
    "sorted_df['Cost'] = sorted_df['Score'] * cost_per_point\n",
    "\n",
    "# Save the updated DataFrame to a new CSV file\n",
    "sorted_df.to_csv('sorted_player_scores_with_cost.csv', index=False)\n",
    "\n",
    "# Print to verify\n",
    "print(sorted_df[['Player', 'Score', 'Cost']].head())\n",
    "\n",
    "# Optional: save sorted DataFrame to a new CSV file\n"
   ]
  },
  {
   "cell_type": "code",
   "execution_count": null,
   "id": "c185639f-98d5-41b3-a2fb-b668b094c719",
   "metadata": {},
   "outputs": [],
   "source": []
  }
 ],
 "metadata": {
  "kernelspec": {
   "display_name": "Python 3 (ipykernel)",
   "language": "python",
   "name": "python3"
  },
  "language_info": {
   "codemirror_mode": {
    "name": "ipython",
    "version": 3
   },
   "file_extension": ".py",
   "mimetype": "text/x-python",
   "name": "python",
   "nbconvert_exporter": "python",
   "pygments_lexer": "ipython3",
   "version": "3.11.4"
  }
 },
 "nbformat": 4,
 "nbformat_minor": 5
}
